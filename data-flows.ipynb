{
 "cells": [
  {
   "cell_type": "markdown",
   "metadata": {},
   "source": [
    "### We need to simulate the arrival of ADD, FULL and DELTA flows to our Data Lake. Let's use for this purpose the dump of a retail database. We will load it into mysql and generate csv files to illustrate the arrival of regular flows into our Transfer Hub."
   ]
  },
  {
   "cell_type": "code",
   "execution_count": 1,
   "metadata": {
    "collapsed": false,
    "scrolled": true
   },
   "outputs": [],
   "source": [
    "import pymysql\n",
    "\n",
    "db = pymysql.connect(host=\"localhost\", user='hiveuser', password='hivepassword')\n",
    "cur = db.cursor()\n",
    "cur.execute(\"CREATE DATABASE retail_db\")\n",
    "cur.execute(\"USE retail_db\")\n",
    "cur.execute(open(\"dump.sql\").read())\n",
    "cur.close()\n",
    "db.close()"
   ]
  },
  {
   "cell_type": "code",
   "execution_count": 2,
   "metadata": {
    "collapsed": false
   },
   "outputs": [
    {
     "data": {
      "text/html": [
       "<div style=\"max-height:1000px;max-width:1500px;overflow:auto;\">\n",
       "<table border=\"1\" class=\"dataframe\">\n",
       "  <thead>\n",
       "    <tr style=\"text-align: right;\">\n",
       "      <th></th>\n",
       "      <th>Tables_in_retail_db</th>\n",
       "    </tr>\n",
       "  </thead>\n",
       "  <tbody>\n",
       "    <tr>\n",
       "      <th>0</th>\n",
       "      <td>  categories</td>\n",
       "    </tr>\n",
       "    <tr>\n",
       "      <th>1</th>\n",
       "      <td>   customers</td>\n",
       "    </tr>\n",
       "    <tr>\n",
       "      <th>2</th>\n",
       "      <td> departments</td>\n",
       "    </tr>\n",
       "    <tr>\n",
       "      <th>3</th>\n",
       "      <td> order_items</td>\n",
       "    </tr>\n",
       "    <tr>\n",
       "      <th>4</th>\n",
       "      <td>      orders</td>\n",
       "    </tr>\n",
       "    <tr>\n",
       "      <th>5</th>\n",
       "      <td>    products</td>\n",
       "    </tr>\n",
       "  </tbody>\n",
       "</table>\n",
       "</div>"
      ],
      "text/plain": [
       "  Tables_in_retail_db\n",
       "0          categories\n",
       "1           customers\n",
       "2         departments\n",
       "3         order_items\n",
       "4              orders\n",
       "5            products"
      ]
     },
     "execution_count": 2,
     "metadata": {},
     "output_type": "execute_result"
    }
   ],
   "source": [
    "import pandas as pd\n",
    "\n",
    "db = pymysql.connect(host=\"localhost\", user='hiveuser', password='hivepassword', db=\"retail_db\")\n",
    "pd.read_sql(\"SHOW TABLES\", db)"
   ]
  },
  {
   "cell_type": "code",
   "execution_count": 3,
   "metadata": {
    "collapsed": false
   },
   "outputs": [
    {
     "data": {
      "text/html": [
       "<div style=\"max-height:1000px;max-width:1500px;overflow:auto;\">\n",
       "<table border=\"1\" class=\"dataframe\">\n",
       "  <thead>\n",
       "    <tr style=\"text-align: right;\">\n",
       "      <th></th>\n",
       "      <th>Field</th>\n",
       "      <th>Type</th>\n",
       "      <th>Null</th>\n",
       "      <th>Key</th>\n",
       "      <th>Default</th>\n",
       "      <th>Extra</th>\n",
       "    </tr>\n",
       "  </thead>\n",
       "  <tbody>\n",
       "    <tr>\n",
       "      <th>0</th>\n",
       "      <td>       customer_id</td>\n",
       "      <td>      int(11)</td>\n",
       "      <td> NO</td>\n",
       "      <td> PRI</td>\n",
       "      <td> None</td>\n",
       "      <td> auto_increment</td>\n",
       "    </tr>\n",
       "    <tr>\n",
       "      <th>1</th>\n",
       "      <td>    customer_fname</td>\n",
       "      <td>  varchar(45)</td>\n",
       "      <td> NO</td>\n",
       "      <td>    </td>\n",
       "      <td> None</td>\n",
       "      <td>               </td>\n",
       "    </tr>\n",
       "    <tr>\n",
       "      <th>2</th>\n",
       "      <td>    customer_lname</td>\n",
       "      <td>  varchar(45)</td>\n",
       "      <td> NO</td>\n",
       "      <td>    </td>\n",
       "      <td> None</td>\n",
       "      <td>               </td>\n",
       "    </tr>\n",
       "    <tr>\n",
       "      <th>3</th>\n",
       "      <td>    customer_email</td>\n",
       "      <td>  varchar(45)</td>\n",
       "      <td> NO</td>\n",
       "      <td>    </td>\n",
       "      <td> None</td>\n",
       "      <td>               </td>\n",
       "    </tr>\n",
       "    <tr>\n",
       "      <th>4</th>\n",
       "      <td> customer_password</td>\n",
       "      <td>  varchar(45)</td>\n",
       "      <td> NO</td>\n",
       "      <td>    </td>\n",
       "      <td> None</td>\n",
       "      <td>               </td>\n",
       "    </tr>\n",
       "    <tr>\n",
       "      <th>5</th>\n",
       "      <td>   customer_street</td>\n",
       "      <td> varchar(255)</td>\n",
       "      <td> NO</td>\n",
       "      <td>    </td>\n",
       "      <td> None</td>\n",
       "      <td>               </td>\n",
       "    </tr>\n",
       "    <tr>\n",
       "      <th>6</th>\n",
       "      <td>     customer_city</td>\n",
       "      <td>  varchar(45)</td>\n",
       "      <td> NO</td>\n",
       "      <td>    </td>\n",
       "      <td> None</td>\n",
       "      <td>               </td>\n",
       "    </tr>\n",
       "    <tr>\n",
       "      <th>7</th>\n",
       "      <td>    customer_state</td>\n",
       "      <td>  varchar(45)</td>\n",
       "      <td> NO</td>\n",
       "      <td>    </td>\n",
       "      <td> None</td>\n",
       "      <td>               </td>\n",
       "    </tr>\n",
       "    <tr>\n",
       "      <th>8</th>\n",
       "      <td>  customer_zipcode</td>\n",
       "      <td>  varchar(45)</td>\n",
       "      <td> NO</td>\n",
       "      <td>    </td>\n",
       "      <td> None</td>\n",
       "      <td>               </td>\n",
       "    </tr>\n",
       "  </tbody>\n",
       "</table>\n",
       "</div>"
      ],
      "text/plain": [
       "               Field          Type Null  Key Default           Extra\n",
       "0        customer_id       int(11)   NO  PRI    None  auto_increment\n",
       "1     customer_fname   varchar(45)   NO         None                \n",
       "2     customer_lname   varchar(45)   NO         None                \n",
       "3     customer_email   varchar(45)   NO         None                \n",
       "4  customer_password   varchar(45)   NO         None                \n",
       "5    customer_street  varchar(255)   NO         None                \n",
       "6      customer_city   varchar(45)   NO         None                \n",
       "7     customer_state   varchar(45)   NO         None                \n",
       "8   customer_zipcode   varchar(45)   NO         None                "
      ]
     },
     "execution_count": 3,
     "metadata": {},
     "output_type": "execute_result"
    }
   ],
   "source": [
    "pd.read_sql(\"DESCRIBE customers\", db)"
   ]
  },
  {
   "cell_type": "code",
   "execution_count": 4,
   "metadata": {
    "collapsed": false
   },
   "outputs": [
    {
     "data": {
      "text/html": [
       "<div style=\"max-height:1000px;max-width:1500px;overflow:auto;\">\n",
       "<table border=\"1\" class=\"dataframe\">\n",
       "  <thead>\n",
       "    <tr style=\"text-align: right;\">\n",
       "      <th></th>\n",
       "      <th>order_id</th>\n",
       "      <th>order_date</th>\n",
       "      <th>order_customer_id</th>\n",
       "      <th>order_status</th>\n",
       "    </tr>\n",
       "  </thead>\n",
       "  <tbody>\n",
       "    <tr>\n",
       "      <th>0</th>\n",
       "      <td> 1</td>\n",
       "      <td>2013-07-25</td>\n",
       "      <td> 11599</td>\n",
       "      <td>          CLOSED</td>\n",
       "    </tr>\n",
       "    <tr>\n",
       "      <th>1</th>\n",
       "      <td> 2</td>\n",
       "      <td>2013-07-25</td>\n",
       "      <td>   256</td>\n",
       "      <td> PENDING_PAYMENT</td>\n",
       "    </tr>\n",
       "    <tr>\n",
       "      <th>2</th>\n",
       "      <td> 3</td>\n",
       "      <td>2013-07-25</td>\n",
       "      <td> 12111</td>\n",
       "      <td>        COMPLETE</td>\n",
       "    </tr>\n",
       "    <tr>\n",
       "      <th>3</th>\n",
       "      <td> 4</td>\n",
       "      <td>2013-07-25</td>\n",
       "      <td>  8827</td>\n",
       "      <td>          CLOSED</td>\n",
       "    </tr>\n",
       "    <tr>\n",
       "      <th>4</th>\n",
       "      <td> 5</td>\n",
       "      <td>2013-07-25</td>\n",
       "      <td> 11318</td>\n",
       "      <td>        COMPLETE</td>\n",
       "    </tr>\n",
       "  </tbody>\n",
       "</table>\n",
       "</div>"
      ],
      "text/plain": [
       "   order_id order_date  order_customer_id     order_status\n",
       "0         1 2013-07-25              11599           CLOSED\n",
       "1         2 2013-07-25                256  PENDING_PAYMENT\n",
       "2         3 2013-07-25              12111         COMPLETE\n",
       "3         4 2013-07-25               8827           CLOSED\n",
       "4         5 2013-07-25              11318         COMPLETE"
      ]
     },
     "execution_count": 4,
     "metadata": {},
     "output_type": "execute_result"
    }
   ],
   "source": [
    "pd.read_sql(\"SELECT * FROM orders LIMIT 5\", db)"
   ]
  },
  {
   "cell_type": "markdown",
   "metadata": {
    "collapsed": false
   },
   "source": [
    "### generating ADD Flow: daily orders\n",
    "\n",
    "#### Schemas will be stored in memory for this tutorial - we will explore in a later post how to select the right repository"
   ]
  },
  {
   "cell_type": "code",
   "execution_count": 5,
   "metadata": {
    "collapsed": false
   },
   "outputs": [
    {
     "name": "stdout",
     "output_type": "stream",
     "text": [
      "order_id,order_date,order_customer_id,order_status\n"
     ]
    }
   ],
   "source": [
    "pd.read_sql(\"SELECT * FROM orders WHERE order_date='2014-01-01'\", db).to_csv('orders20140101.csv', header=False, index=False, quoting=1)\n",
    "pd.read_sql(\"SELECT * FROM orders WHERE order_date='2014-01-02'\", db).to_csv('orders20140102.csv', header=False, index=False, quoting=1)\n",
    "pd.read_sql(\"SELECT * FROM orders WHERE order_date='2014-01-03'\", db).to_csv('orders20140103.csv', header=False, index=False, quoting=1)\n",
    "\n",
    "schemaStringADD = ','.join(pd.read_sql(\"DESCRIBE orders\", db).Field)\n",
    "print schemaStringADD\n",
    "typeStringADD = 'INT,STRING,INT,STRING'"
   ]
  },
  {
   "cell_type": "markdown",
   "metadata": {},
   "source": [
    "### generating FULL Flow: products"
   ]
  },
  {
   "cell_type": "code",
   "execution_count": 6,
   "metadata": {
    "collapsed": false
   },
   "outputs": [
    {
     "name": "stdout",
     "output_type": "stream",
     "text": [
      "product_id,product_category_id,product_name,product_description,product_price,product_image\n"
     ]
    }
   ],
   "source": [
    "pd.read_sql(\"SELECT * FROM products\", db).to_csv('products20150101.csv', header=False, index=False, quoting=1)\n",
    "pd.read_sql(\"SELECT * FROM products\", db).to_csv('products20150102.csv', header=False, index=False, quoting=1)\n",
    "\n",
    "schemaStringFULL = ','.join(pd.read_sql(\"DESCRIBE products\", db).Field)\n",
    "print schemaStringFULL\n",
    "typeStringFULL = 'INT,INT,STRING,STRING,FLOAT,STRING'"
   ]
  },
  {
   "cell_type": "markdown",
   "metadata": {},
   "source": [
    "### generating DELTA Flow: customers"
   ]
  },
  {
   "cell_type": "code",
   "execution_count": 7,
   "metadata": {
    "collapsed": false
   },
   "outputs": [
    {
     "name": "stdout",
     "output_type": "stream",
     "text": [
      "customer_id,customer_fname,customer_lname,customer_email,customer_password,customer_street,customer_city,customer_state,customer_zipcode\n"
     ]
    }
   ],
   "source": [
    "pd.read_sql(\"SELECT * FROM customers\", db).to_csv('customers_ref.csv', header=False, index=False, quoting=1)\n",
    "pd.read_sql(\"SELECT * FROM customers WHERE customer_state='NY'\", db).to_csv('customers20150101.csv', header=False, index=False, quoting=1)\n",
    "\n",
    "schemaStringDELTA = ','.join(pd.read_sql(\"DESCRIBE customers\", db).Field)\n",
    "print schemaStringDELTA\n",
    "typeStringDELTA = 'INT,STRING,STRING,STRING,STRING,STRING,STRING,STRING,STRING'"
   ]
  },
  {
   "cell_type": "markdown",
   "metadata": {},
   "source": [
    "### Let's move the generated files into HDFS\n",
    "\n",
    "#### we will explore later how to move files appropriately between Local and HDFS"
   ]
  },
  {
   "cell_type": "code",
   "execution_count": 8,
   "metadata": {
    "collapsed": false
   },
   "outputs": [
    {
     "name": "stdout",
     "output_type": "stream",
     "text": [
      "15/12/18 09:51:04 INFO fs.TrashPolicyDefault: Namenode trash configuration: Deletion interval = 0 minutes, Emptier interval = 0 minutes.\n",
      "Deleted /user/datacruncher/in\n",
      "15/12/18 09:51:07 INFO fs.TrashPolicyDefault: Namenode trash configuration: Deletion interval = 0 minutes, Emptier interval = 0 minutes.\n",
      "Deleted /user/datacruncher/raw\n",
      "15/12/18 09:51:10 INFO fs.TrashPolicyDefault: Namenode trash configuration: Deletion interval = 0 minutes, Emptier interval = 0 minutes.\n",
      "Deleted /user/datacruncher/out\n"
     ]
    }
   ],
   "source": [
    "#! hdfs dfs -rm -r /user/datacruncher/in\n",
    "#! hdfs dfs -rm -r /user/datacruncher/raw\n",
    "#! hdfs dfs -rm -r /user/datacruncher/out\n",
    "! hdfs dfs -mkdir -p /user/datacruncher/in\n",
    "! hdfs dfs -mkdir -p /user/datacruncher/raw\n",
    "! hdfs dfs -put orders*.csv /user/datacruncher/in/\n",
    "! hdfs dfs -put products*.csv /user/datacruncher/in/\n",
    "! hdfs dfs -put customers*.csv /user/datacruncher/in/\n",
    "! rm orders*.csv products*.csv customers*.csv"
   ]
  },
  {
   "cell_type": "markdown",
   "metadata": {},
   "source": [
    "### Create Hive Tables"
   ]
  },
  {
   "cell_type": "code",
   "execution_count": 9,
   "metadata": {
    "collapsed": false
   },
   "outputs": [
    {
     "name": "stdout",
     "output_type": "stream",
     "text": [
      "order_id INT, order_date STRING, order_customer_id INT, order_status STRING\n",
      "product_id INT, product_category_id INT, product_name STRING, product_description STRING, product_price FLOAT, product_image STRING\n",
      "customer_id INT, customer_fname STRING, customer_lname STRING, customer_email STRING, customer_password STRING, customer_street STRING, customer_city STRING, customer_state STRING, customer_zipcode STRING\n"
     ]
    }
   ],
   "source": [
    "sqlStringADD = ', '.join([' '.join(x) for x in zip(schemaStringADD.split(','), typeStringADD.split(','))])\n",
    "print sqlStringADD\n",
    "sqlStringFULL = ', '.join([' '.join(x) for x in zip(schemaStringFULL.split(','), typeStringFULL.split(','))])\n",
    "print sqlStringFULL\n",
    "sqlStringDELTA = ', '.join([' '.join(x) for x in zip(schemaStringDELTA.split(','), typeStringDELTA.split(','))])\n",
    "print sqlStringDELTA"
   ]
  },
  {
   "cell_type": "code",
   "execution_count": 10,
   "metadata": {
    "collapsed": false
   },
   "outputs": [],
   "source": [
    "import pyhs2\n",
    "conn = pyhs2.connect(host='localhost', port=10000, authMechanism=\"PLAIN\", user='nasdag', password='', database='default')\n",
    "cur = conn.cursor()\n",
    "cur.execute(\"drop table orders\")\n",
    "cur.execute(\"drop table products\")\n",
    "#cur.execute(\"drop table customers\")\n",
    "cur.execute(\"CREATE EXTERNAL TABLE orders (\" + sqlStringADD + \"\"\")\n",
    "        COMMENT 'orders table'\n",
    "        PARTITIONED BY (crunch_date STRING)\n",
    "        STORED AS PARQUET\n",
    "        LOCATION '/user/datacruncher/out/orders'\"\"\")\n",
    "cur.execute(\"CREATE EXTERNAL TABLE products (\" + sqlStringFULL + \"\"\")\n",
    "        COMMENT 'products table'\n",
    "        PARTITIONED BY (crunch_date STRING)\n",
    "        STORED AS PARQUET\n",
    "        LOCATION '/user/datacruncher/out/products'\"\"\")\n",
    "#cur.execute(\"CREATE EXTERNAL TABLE customers (\" + sqlStringDELTA + \"\"\")\n",
    "#        COMMENT 'customers table'\n",
    "#        PARTITIONED BY (crunch_date STRING)\n",
    "#        STORED AS PARQUET\n",
    "#        LOCATION '/user/datacruncher/out/customers'\"\"\")"
   ]
  },
  {
   "cell_type": "markdown",
   "metadata": {},
   "source": [
    "### Start pyspark to process the data flows "
   ]
  },
  {
   "cell_type": "code",
   "execution_count": 11,
   "metadata": {
    "collapsed": false
   },
   "outputs": [],
   "source": [
    "#sc.stop()\n",
    "import pyspark\n",
    "sc = pyspark.SparkContext()\n",
    "\n",
    "from pyspark.sql import HiveContext\n",
    "sqlContext = HiveContext(sc)\n",
    "sqlContext.setConf(\"spark.sql.sources.partitionColumnTypeInference.enabled\", \"false\")"
   ]
  },
  {
   "cell_type": "markdown",
   "metadata": {},
   "source": [
    "#### create the appropriate schemas from the schema strings"
   ]
  },
  {
   "cell_type": "code",
   "execution_count": 21,
   "metadata": {
    "collapsed": false
   },
   "outputs": [
    {
     "name": "stdout",
     "output_type": "stream",
     "text": [
      "StructType(List(StructField(order_id,IntegerType,false),StructField(order_date,StringType,false),StructField(order_customer_id,IntegerType,false),StructField(order_status,StringType,false)))\n",
      "StructType(List(StructField(product_id,IntegerType,false),StructField(product_category_id,IntegerType,false),StructField(product_name,StringType,false),StructField(product_description,StringType,false),StructField(product_price,FloatType,false),StructField(product_image,StringType,false)))\n"
     ]
    }
   ],
   "source": [
    "from pyspark.sql.types import *\n",
    "st = { 'INT': IntegerType(), 'STRING': StringType() , 'FLOAT': FloatType() }\n",
    "\n",
    "fieldsADD = [StructField(field_name, st[field_type], False) for field_name, field_type in \\\n",
    "          zip(schemaStringADD.split(','), typeStringADD.split(','))]\n",
    "schemaADD = StructType(fieldsADD)\n",
    "print schemaADD\n",
    "\n",
    "fieldsFULL = [StructField(field_name, st[field_type], False) for field_name, field_type in \\\n",
    "          zip(schemaStringFULL.split(','), typeStringFULL.split(','))]\n",
    "schemaFULL = StructType(fieldsFULL)\n",
    "print schemaFULL"
   ]
  },
  {
   "cell_type": "markdown",
   "metadata": {},
   "source": [
    "#### load the csv flow according to its schema"
   ]
  },
  {
   "cell_type": "code",
   "execution_count": 13,
   "metadata": {
    "collapsed": false
   },
   "outputs": [],
   "source": [
    "df = sqlContext.read.format(\"com.databricks.spark.csv\").schema(schemaADD).load('/user/datacruncher/in/orders20140101.csv')"
   ]
  },
  {
   "cell_type": "code",
   "execution_count": 14,
   "metadata": {
    "collapsed": false
   },
   "outputs": [
    {
     "data": {
      "text/plain": [
       "Row(order_id=25876, order_date=u'2014-01-01 00:00:00', order_customer_id=3414, order_status=u'PENDING_PAYMENT')"
      ]
     },
     "execution_count": 14,
     "metadata": {},
     "output_type": "execute_result"
    }
   ],
   "source": [
    "df.first()"
   ]
  },
  {
   "cell_type": "markdown",
   "metadata": {},
   "source": [
    "#### add the crunch date column"
   ]
  },
  {
   "cell_type": "code",
   "execution_count": 15,
   "metadata": {
    "collapsed": false
   },
   "outputs": [
    {
     "data": {
      "text/plain": [
       "Row(order_id=25876, order_date=u'2014-01-01 00:00:00', order_customer_id=3414, order_status=u'PENDING_PAYMENT', crunch_date=u'2015-12-18')"
      ]
     },
     "execution_count": 15,
     "metadata": {},
     "output_type": "execute_result"
    }
   ],
   "source": [
    "sqlContext.registerDataFrameAsTable(df, \"df\")\n",
    "dfWithCrunchDate = sqlContext.sql(\"SELECT *, '2015-12-18' as crunch_date FROM df\")\n",
    "dfWithCrunchDate.first()"
   ]
  },
  {
   "cell_type": "markdown",
   "metadata": {},
   "source": [
    "#### append to the parquet table and update Hive"
   ]
  },
  {
   "cell_type": "code",
   "execution_count": 16,
   "metadata": {
    "collapsed": false
   },
   "outputs": [
    {
     "data": {
      "text/plain": [
       "DataFrame[result: string]"
      ]
     },
     "execution_count": 16,
     "metadata": {},
     "output_type": "execute_result"
    }
   ],
   "source": [
    "dfWithCrunchDate.write.format(\"parquet\").mode('Append').partitionBy('crunch_date').parquet('/user/datacruncher/out/orders')\n",
    "sqlContext.sql(\"MSCK REPAIR TABLE orders\")"
   ]
  },
  {
   "cell_type": "markdown",
   "metadata": {},
   "source": [
    "#### move the original file to a raw directory"
   ]
  },
  {
   "cell_type": "code",
   "execution_count": 17,
   "metadata": {
    "collapsed": false
   },
   "outputs": [],
   "source": [
    "! hdfs dfs -mv /user/datacruncher/in/orders20140101.csv /user/datacruncher/raw/"
   ]
  },
  {
   "cell_type": "markdown",
   "metadata": {},
   "source": [
    "#### query the content of Hive through JDBC"
   ]
  },
  {
   "cell_type": "code",
   "execution_count": 18,
   "metadata": {
    "collapsed": false
   },
   "outputs": [
    {
     "data": {
      "text/html": [
       "<div style=\"max-height:1000px;max-width:1500px;overflow:auto;\">\n",
       "<table border=\"1\" class=\"dataframe\">\n",
       "  <thead>\n",
       "    <tr style=\"text-align: right;\">\n",
       "      <th></th>\n",
       "      <th>0</th>\n",
       "      <th>1</th>\n",
       "      <th>2</th>\n",
       "      <th>3</th>\n",
       "      <th>4</th>\n",
       "    </tr>\n",
       "  </thead>\n",
       "  <tbody>\n",
       "    <tr>\n",
       "      <th>0</th>\n",
       "      <td> 25876</td>\n",
       "      <td> 2014-01-01 00:00:00</td>\n",
       "      <td>  3414</td>\n",
       "      <td> PENDING_PAYMENT</td>\n",
       "      <td> 2015-12-18</td>\n",
       "    </tr>\n",
       "    <tr>\n",
       "      <th>1</th>\n",
       "      <td> 25877</td>\n",
       "      <td> 2014-01-01 00:00:00</td>\n",
       "      <td>  5549</td>\n",
       "      <td> PENDING_PAYMENT</td>\n",
       "      <td> 2015-12-18</td>\n",
       "    </tr>\n",
       "    <tr>\n",
       "      <th>2</th>\n",
       "      <td> 25878</td>\n",
       "      <td> 2014-01-01 00:00:00</td>\n",
       "      <td>  9084</td>\n",
       "      <td>         PENDING</td>\n",
       "      <td> 2015-12-18</td>\n",
       "    </tr>\n",
       "    <tr>\n",
       "      <th>3</th>\n",
       "      <td> 25879</td>\n",
       "      <td> 2014-01-01 00:00:00</td>\n",
       "      <td>  5118</td>\n",
       "      <td>         PENDING</td>\n",
       "      <td> 2015-12-18</td>\n",
       "    </tr>\n",
       "    <tr>\n",
       "      <th>4</th>\n",
       "      <td> 25880</td>\n",
       "      <td> 2014-01-01 00:00:00</td>\n",
       "      <td> 10146</td>\n",
       "      <td>        CANCELED</td>\n",
       "      <td> 2015-12-18</td>\n",
       "    </tr>\n",
       "    <tr>\n",
       "      <th>5</th>\n",
       "      <td> 25881</td>\n",
       "      <td> 2014-01-01 00:00:00</td>\n",
       "      <td>  3205</td>\n",
       "      <td> PENDING_PAYMENT</td>\n",
       "      <td> 2015-12-18</td>\n",
       "    </tr>\n",
       "    <tr>\n",
       "      <th>6</th>\n",
       "      <td> 25882</td>\n",
       "      <td> 2014-01-01 00:00:00</td>\n",
       "      <td>  4598</td>\n",
       "      <td>        COMPLETE</td>\n",
       "      <td> 2015-12-18</td>\n",
       "    </tr>\n",
       "    <tr>\n",
       "      <th>7</th>\n",
       "      <td> 25883</td>\n",
       "      <td> 2014-01-01 00:00:00</td>\n",
       "      <td> 11764</td>\n",
       "      <td>         PENDING</td>\n",
       "      <td> 2015-12-18</td>\n",
       "    </tr>\n",
       "    <tr>\n",
       "      <th>8</th>\n",
       "      <td> 25884</td>\n",
       "      <td> 2014-01-01 00:00:00</td>\n",
       "      <td>  7904</td>\n",
       "      <td> PENDING_PAYMENT</td>\n",
       "      <td> 2015-12-18</td>\n",
       "    </tr>\n",
       "    <tr>\n",
       "      <th>9</th>\n",
       "      <td> 25885</td>\n",
       "      <td> 2014-01-01 00:00:00</td>\n",
       "      <td>  7253</td>\n",
       "      <td>         PENDING</td>\n",
       "      <td> 2015-12-18</td>\n",
       "    </tr>\n",
       "  </tbody>\n",
       "</table>\n",
       "</div>"
      ],
      "text/plain": [
       "       0                    1      2                3           4\n",
       "0  25876  2014-01-01 00:00:00   3414  PENDING_PAYMENT  2015-12-18\n",
       "1  25877  2014-01-01 00:00:00   5549  PENDING_PAYMENT  2015-12-18\n",
       "2  25878  2014-01-01 00:00:00   9084          PENDING  2015-12-18\n",
       "3  25879  2014-01-01 00:00:00   5118          PENDING  2015-12-18\n",
       "4  25880  2014-01-01 00:00:00  10146         CANCELED  2015-12-18\n",
       "5  25881  2014-01-01 00:00:00   3205  PENDING_PAYMENT  2015-12-18\n",
       "6  25882  2014-01-01 00:00:00   4598         COMPLETE  2015-12-18\n",
       "7  25883  2014-01-01 00:00:00  11764          PENDING  2015-12-18\n",
       "8  25884  2014-01-01 00:00:00   7904  PENDING_PAYMENT  2015-12-18\n",
       "9  25885  2014-01-01 00:00:00   7253          PENDING  2015-12-18"
      ]
     },
     "execution_count": 18,
     "metadata": {},
     "output_type": "execute_result"
    }
   ],
   "source": [
    "conn = pyhs2.connect(host='localhost', port=10000, authMechanism=\"PLAIN\", user='nasdag', password='', database='default')\n",
    "cur = conn.cursor()\n",
    "cur.execute(\"select * from orders order by order_id limit 10\")\n",
    "pd.DataFrame(cur.fetchall())"
   ]
  },
  {
   "cell_type": "markdown",
   "metadata": {},
   "source": [
    "#### repeat the same for FULL"
   ]
  },
  {
   "cell_type": "code",
   "execution_count": 24,
   "metadata": {
    "collapsed": false
   },
   "outputs": [
    {
     "data": {
      "text/html": [
       "<div style=\"max-height:1000px;max-width:1500px;overflow:auto;\">\n",
       "<table border=\"1\" class=\"dataframe\">\n",
       "  <thead>\n",
       "    <tr style=\"text-align: right;\">\n",
       "      <th></th>\n",
       "      <th>0</th>\n",
       "      <th>1</th>\n",
       "      <th>2</th>\n",
       "      <th>3</th>\n",
       "      <th>4</th>\n",
       "      <th>5</th>\n",
       "      <th>6</th>\n",
       "    </tr>\n",
       "  </thead>\n",
       "  <tbody>\n",
       "    <tr>\n",
       "      <th>0</th>\n",
       "      <td>  1</td>\n",
       "      <td> 2</td>\n",
       "      <td> Quest Q64 10 FT. x 10 FT. Slant Leg Instant U</td>\n",
       "      <td> </td>\n",
       "      <td>  59.980000</td>\n",
       "      <td> http://images.acmesports.sports/Quest+Q64+10+F...</td>\n",
       "      <td> 2015-12-18</td>\n",
       "    </tr>\n",
       "    <tr>\n",
       "      <th>1</th>\n",
       "      <td>  2</td>\n",
       "      <td> 2</td>\n",
       "      <td> Under Armour Men's Highlight MC Football Clea</td>\n",
       "      <td> </td>\n",
       "      <td> 129.990005</td>\n",
       "      <td> http://images.acmesports.sports/Under+Armour+M...</td>\n",
       "      <td> 2015-12-18</td>\n",
       "    </tr>\n",
       "    <tr>\n",
       "      <th>2</th>\n",
       "      <td>  3</td>\n",
       "      <td> 2</td>\n",
       "      <td> Under Armour Men's Renegade D Mid Football Cl</td>\n",
       "      <td> </td>\n",
       "      <td>  89.989998</td>\n",
       "      <td> http://images.acmesports.sports/Under+Armour+M...</td>\n",
       "      <td> 2015-12-18</td>\n",
       "    </tr>\n",
       "    <tr>\n",
       "      <th>3</th>\n",
       "      <td>  4</td>\n",
       "      <td> 2</td>\n",
       "      <td> Under Armour Men's Renegade D Mid Football Cl</td>\n",
       "      <td> </td>\n",
       "      <td>  89.989998</td>\n",
       "      <td> http://images.acmesports.sports/Under+Armour+M...</td>\n",
       "      <td> 2015-12-18</td>\n",
       "    </tr>\n",
       "    <tr>\n",
       "      <th>4</th>\n",
       "      <td>  5</td>\n",
       "      <td> 2</td>\n",
       "      <td> Riddell Youth Revolution Speed Custom Footbal</td>\n",
       "      <td> </td>\n",
       "      <td> 199.990005</td>\n",
       "      <td> http://images.acmesports.sports/Riddell+Youth+...</td>\n",
       "      <td> 2015-12-18</td>\n",
       "    </tr>\n",
       "    <tr>\n",
       "      <th>5</th>\n",
       "      <td>  6</td>\n",
       "      <td> 2</td>\n",
       "      <td>       Jordan Men's VI Retro TD Football Cleat</td>\n",
       "      <td> </td>\n",
       "      <td> 134.990005</td>\n",
       "      <td> http://images.acmesports.sports/Jordan+Men%27s...</td>\n",
       "      <td> 2015-12-18</td>\n",
       "    </tr>\n",
       "    <tr>\n",
       "      <th>6</th>\n",
       "      <td>  7</td>\n",
       "      <td> 2</td>\n",
       "      <td> Schutt Youth Recruit Hybrid Custom Football H</td>\n",
       "      <td> </td>\n",
       "      <td>  99.989998</td>\n",
       "      <td> http://images.acmesports.sports/Schutt+Youth+R...</td>\n",
       "      <td> 2015-12-18</td>\n",
       "    </tr>\n",
       "    <tr>\n",
       "      <th>7</th>\n",
       "      <td>  8</td>\n",
       "      <td> 2</td>\n",
       "      <td> Nike Men's Vapor Carbon Elite TD Football Cle</td>\n",
       "      <td> </td>\n",
       "      <td> 129.990005</td>\n",
       "      <td> http://images.acmesports.sports/Nike+Men%27s+V...</td>\n",
       "      <td> 2015-12-18</td>\n",
       "    </tr>\n",
       "    <tr>\n",
       "      <th>8</th>\n",
       "      <td>  9</td>\n",
       "      <td> 2</td>\n",
       "      <td>      Nike Adult Vapor Jet 3.0 Receiver Gloves</td>\n",
       "      <td> </td>\n",
       "      <td>  50.000000</td>\n",
       "      <td> http://images.acmesports.sports/Nike+Adult+Vap...</td>\n",
       "      <td> 2015-12-18</td>\n",
       "    </tr>\n",
       "    <tr>\n",
       "      <th>9</th>\n",
       "      <td> 10</td>\n",
       "      <td> 2</td>\n",
       "      <td> Under Armour Men's Highlight MC Football Clea</td>\n",
       "      <td> </td>\n",
       "      <td> 129.990005</td>\n",
       "      <td> http://images.acmesports.sports/Under+Armour+M...</td>\n",
       "      <td> 2015-12-18</td>\n",
       "    </tr>\n",
       "  </tbody>\n",
       "</table>\n",
       "</div>"
      ],
      "text/plain": [
       "    0  1                                              2 3           4  \\\n",
       "0   1  2  Quest Q64 10 FT. x 10 FT. Slant Leg Instant U     59.980000   \n",
       "1   2  2  Under Armour Men's Highlight MC Football Clea    129.990005   \n",
       "2   3  2  Under Armour Men's Renegade D Mid Football Cl     89.989998   \n",
       "3   4  2  Under Armour Men's Renegade D Mid Football Cl     89.989998   \n",
       "4   5  2  Riddell Youth Revolution Speed Custom Footbal    199.990005   \n",
       "5   6  2        Jordan Men's VI Retro TD Football Cleat    134.990005   \n",
       "6   7  2  Schutt Youth Recruit Hybrid Custom Football H     99.989998   \n",
       "7   8  2  Nike Men's Vapor Carbon Elite TD Football Cle    129.990005   \n",
       "8   9  2       Nike Adult Vapor Jet 3.0 Receiver Gloves     50.000000   \n",
       "9  10  2  Under Armour Men's Highlight MC Football Clea    129.990005   \n",
       "\n",
       "                                                   5           6  \n",
       "0  http://images.acmesports.sports/Quest+Q64+10+F...  2015-12-18  \n",
       "1  http://images.acmesports.sports/Under+Armour+M...  2015-12-18  \n",
       "2  http://images.acmesports.sports/Under+Armour+M...  2015-12-18  \n",
       "3  http://images.acmesports.sports/Under+Armour+M...  2015-12-18  \n",
       "4  http://images.acmesports.sports/Riddell+Youth+...  2015-12-18  \n",
       "5  http://images.acmesports.sports/Jordan+Men%27s...  2015-12-18  \n",
       "6  http://images.acmesports.sports/Schutt+Youth+R...  2015-12-18  \n",
       "7  http://images.acmesports.sports/Nike+Men%27s+V...  2015-12-18  \n",
       "8  http://images.acmesports.sports/Nike+Adult+Vap...  2015-12-18  \n",
       "9  http://images.acmesports.sports/Under+Armour+M...  2015-12-18  "
      ]
     },
     "execution_count": 24,
     "metadata": {},
     "output_type": "execute_result"
    }
   ],
   "source": [
    "df = sqlContext.read.format(\"com.databricks.spark.csv\").schema(schemaFULL).load('/user/datacruncher/in/products20150101.csv')\n",
    "sqlContext.registerDataFrameAsTable(df, \"df\")\n",
    "dfWithCrunchDate = sqlContext.sql(\"SELECT *, '2015-12-18' as crunch_date FROM df\")\n",
    "dfWithCrunchDate.write.format(\"parquet\").mode('Append').partitionBy('crunch_date').parquet('/user/datacruncher/out/products')\n",
    "sqlContext.sql(\"MSCK REPAIR TABLE products\")\n",
    "! hdfs dfs -mv /user/datacruncher/in/products20150101.csv /user/datacruncher/raw/\n",
    "\n",
    "df = sqlContext.read.format(\"com.databricks.spark.csv\").schema(schemaFULL).load('/user/datacruncher/in/products20150102.csv')\n",
    "sqlContext.registerDataFrameAsTable(df, \"df\")\n",
    "dfWithCrunchDate = sqlContext.sql(\"SELECT *, '2015-12-19' as crunch_date FROM df\")\n",
    "dfWithCrunchDate.write.format(\"parquet\").mode('Append').partitionBy('crunch_date').parquet('/user/datacruncher/out/products')\n",
    "sqlContext.sql(\"MSCK REPAIR TABLE products\")\n",
    "! hdfs dfs -mv /user/datacruncher/in/products20150102.csv /user/datacruncher/raw/\n",
    "\n",
    "cur = conn.cursor()\n",
    "cur.execute(\"select * from products limit 10\")\n",
    "pd.DataFrame(cur.fetchall())"
   ]
  },
  {
   "cell_type": "markdown",
   "metadata": {},
   "source": [
    "#### create a view for Hive queries"
   ]
  },
  {
   "cell_type": "code",
   "execution_count": 38,
   "metadata": {
    "collapsed": false
   },
   "outputs": [
    {
     "name": "stdout",
     "output_type": "stream",
     "text": [
      "product_id INT, product_category_id INT, product_name STRING, product_description STRING, product_price FLOAT, product_image STRING\n",
      "product_id,product_category_id,product_name,product_description,product_price,product_image\n"
     ]
    },
    {
     "data": {
      "text/html": [
       "<div style=\"max-height:1000px;max-width:1500px;overflow:auto;\">\n",
       "<table border=\"1\" class=\"dataframe\">\n",
       "  <thead>\n",
       "    <tr style=\"text-align: right;\">\n",
       "      <th></th>\n",
       "      <th>0</th>\n",
       "      <th>1</th>\n",
       "      <th>2</th>\n",
       "      <th>3</th>\n",
       "      <th>4</th>\n",
       "      <th>5</th>\n",
       "    </tr>\n",
       "  </thead>\n",
       "  <tbody>\n",
       "    <tr>\n",
       "      <th>0</th>\n",
       "      <td>  1</td>\n",
       "      <td> 2</td>\n",
       "      <td> Quest Q64 10 FT. x 10 FT. Slant Leg Instant U</td>\n",
       "      <td> </td>\n",
       "      <td>  59.980000</td>\n",
       "      <td> http://images.acmesports.sports/Quest+Q64+10+F...</td>\n",
       "    </tr>\n",
       "    <tr>\n",
       "      <th>1</th>\n",
       "      <td>  2</td>\n",
       "      <td> 2</td>\n",
       "      <td> Under Armour Men's Highlight MC Football Clea</td>\n",
       "      <td> </td>\n",
       "      <td> 129.990005</td>\n",
       "      <td> http://images.acmesports.sports/Under+Armour+M...</td>\n",
       "    </tr>\n",
       "    <tr>\n",
       "      <th>2</th>\n",
       "      <td>  3</td>\n",
       "      <td> 2</td>\n",
       "      <td> Under Armour Men's Renegade D Mid Football Cl</td>\n",
       "      <td> </td>\n",
       "      <td>  89.989998</td>\n",
       "      <td> http://images.acmesports.sports/Under+Armour+M...</td>\n",
       "    </tr>\n",
       "    <tr>\n",
       "      <th>3</th>\n",
       "      <td>  4</td>\n",
       "      <td> 2</td>\n",
       "      <td> Under Armour Men's Renegade D Mid Football Cl</td>\n",
       "      <td> </td>\n",
       "      <td>  89.989998</td>\n",
       "      <td> http://images.acmesports.sports/Under+Armour+M...</td>\n",
       "    </tr>\n",
       "    <tr>\n",
       "      <th>4</th>\n",
       "      <td>  5</td>\n",
       "      <td> 2</td>\n",
       "      <td> Riddell Youth Revolution Speed Custom Footbal</td>\n",
       "      <td> </td>\n",
       "      <td> 199.990005</td>\n",
       "      <td> http://images.acmesports.sports/Riddell+Youth+...</td>\n",
       "    </tr>\n",
       "    <tr>\n",
       "      <th>5</th>\n",
       "      <td>  6</td>\n",
       "      <td> 2</td>\n",
       "      <td>       Jordan Men's VI Retro TD Football Cleat</td>\n",
       "      <td> </td>\n",
       "      <td> 134.990005</td>\n",
       "      <td> http://images.acmesports.sports/Jordan+Men%27s...</td>\n",
       "    </tr>\n",
       "    <tr>\n",
       "      <th>6</th>\n",
       "      <td>  7</td>\n",
       "      <td> 2</td>\n",
       "      <td> Schutt Youth Recruit Hybrid Custom Football H</td>\n",
       "      <td> </td>\n",
       "      <td>  99.989998</td>\n",
       "      <td> http://images.acmesports.sports/Schutt+Youth+R...</td>\n",
       "    </tr>\n",
       "    <tr>\n",
       "      <th>7</th>\n",
       "      <td>  8</td>\n",
       "      <td> 2</td>\n",
       "      <td> Nike Men's Vapor Carbon Elite TD Football Cle</td>\n",
       "      <td> </td>\n",
       "      <td> 129.990005</td>\n",
       "      <td> http://images.acmesports.sports/Nike+Men%27s+V...</td>\n",
       "    </tr>\n",
       "    <tr>\n",
       "      <th>8</th>\n",
       "      <td>  9</td>\n",
       "      <td> 2</td>\n",
       "      <td>      Nike Adult Vapor Jet 3.0 Receiver Gloves</td>\n",
       "      <td> </td>\n",
       "      <td>  50.000000</td>\n",
       "      <td> http://images.acmesports.sports/Nike+Adult+Vap...</td>\n",
       "    </tr>\n",
       "    <tr>\n",
       "      <th>9</th>\n",
       "      <td> 10</td>\n",
       "      <td> 2</td>\n",
       "      <td> Under Armour Men's Highlight MC Football Clea</td>\n",
       "      <td> </td>\n",
       "      <td> 129.990005</td>\n",
       "      <td> http://images.acmesports.sports/Under+Armour+M...</td>\n",
       "    </tr>\n",
       "  </tbody>\n",
       "</table>\n",
       "</div>"
      ],
      "text/plain": [
       "    0  1                                              2 3           4  \\\n",
       "0   1  2  Quest Q64 10 FT. x 10 FT. Slant Leg Instant U     59.980000   \n",
       "1   2  2  Under Armour Men's Highlight MC Football Clea    129.990005   \n",
       "2   3  2  Under Armour Men's Renegade D Mid Football Cl     89.989998   \n",
       "3   4  2  Under Armour Men's Renegade D Mid Football Cl     89.989998   \n",
       "4   5  2  Riddell Youth Revolution Speed Custom Footbal    199.990005   \n",
       "5   6  2        Jordan Men's VI Retro TD Football Cleat    134.990005   \n",
       "6   7  2  Schutt Youth Recruit Hybrid Custom Football H     99.989998   \n",
       "7   8  2  Nike Men's Vapor Carbon Elite TD Football Cle    129.990005   \n",
       "8   9  2       Nike Adult Vapor Jet 3.0 Receiver Gloves     50.000000   \n",
       "9  10  2  Under Armour Men's Highlight MC Football Clea    129.990005   \n",
       "\n",
       "                                                   5  \n",
       "0  http://images.acmesports.sports/Quest+Q64+10+F...  \n",
       "1  http://images.acmesports.sports/Under+Armour+M...  \n",
       "2  http://images.acmesports.sports/Under+Armour+M...  \n",
       "3  http://images.acmesports.sports/Under+Armour+M...  \n",
       "4  http://images.acmesports.sports/Riddell+Youth+...  \n",
       "5  http://images.acmesports.sports/Jordan+Men%27s...  \n",
       "6  http://images.acmesports.sports/Schutt+Youth+R...  \n",
       "7  http://images.acmesports.sports/Nike+Men%27s+V...  \n",
       "8  http://images.acmesports.sports/Nike+Adult+Vap...  \n",
       "9  http://images.acmesports.sports/Under+Armour+M...  "
      ]
     },
     "execution_count": 38,
     "metadata": {},
     "output_type": "execute_result"
    }
   ],
   "source": [
    "print sqlStringFULL\n",
    "print schemaStringFULL\n",
    "cur = conn.cursor()\n",
    "cur.execute(\"CREATE VIEW IF NOT EXISTS prod (\" + schemaStringFULL + \"\"\")\n",
    "            AS SELECT \"\"\" + schemaStringFULL + \"\"\" FROM products\n",
    "            WHERE crunch_date = '2015-12-19' \"\"\")\n",
    "cur.execute(\"select * from prod order by product_id limit 10\")\n",
    "pd.DataFrame(cur.fetchall())"
   ]
  },
  {
   "cell_type": "code",
   "execution_count": null,
   "metadata": {
    "collapsed": true
   },
   "outputs": [],
   "source": []
  }
 ],
 "metadata": {
  "kernelspec": {
   "display_name": "Python 2",
   "language": "python",
   "name": "python2"
  },
  "language_info": {
   "codemirror_mode": {
    "name": "ipython",
    "version": 2
   },
   "file_extension": ".py",
   "mimetype": "text/x-python",
   "name": "python",
   "nbconvert_exporter": "python",
   "pygments_lexer": "ipython2",
   "version": "2.7.10"
  }
 },
 "nbformat": 4,
 "nbformat_minor": 0
}
